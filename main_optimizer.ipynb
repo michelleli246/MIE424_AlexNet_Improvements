{
 "nbformat": 4,
 "nbformat_minor": 0,
 "metadata": {
  "colab": {
   "name": "MIE424 Project",
   "provenance": [],
   "collapsed_sections": []
  },
  "kernelspec": {
   "name": "python3",
   "language": "python",
   "display_name": "Python 3 (ipykernel)"
  },
  "language_info": {
   "name": "python"
  },
  "accelerator": "GPU",
  "widgets": {
   "application/vnd.jupyter.widget-state+json": {
    "877b6849db904c7882991340bcf5753a": {
     "model_module": "@jupyter-widgets/controls",
     "model_name": "HBoxModel",
     "model_module_version": "1.5.0",
     "state": {
      "_dom_classes": [],
      "_model_module": "@jupyter-widgets/controls",
      "_model_module_version": "1.5.0",
      "_model_name": "HBoxModel",
      "_view_count": null,
      "_view_module": "@jupyter-widgets/controls",
      "_view_module_version": "1.5.0",
      "_view_name": "HBoxView",
      "box_style": "",
      "children": [
       "IPY_MODEL_2accb164e4c549e2acf61a4c69019ecd",
       "IPY_MODEL_b53fbc548730444781609c24cbff5fdb",
       "IPY_MODEL_29796d19cd1e4d0ba7410ccbe22f5942"
      ],
      "layout": "IPY_MODEL_49c6404fb77f4c79991425732cea4fc9"
     }
    },
    "2accb164e4c549e2acf61a4c69019ecd": {
     "model_module": "@jupyter-widgets/controls",
     "model_name": "HTMLModel",
     "model_module_version": "1.5.0",
     "state": {
      "_dom_classes": [],
      "_model_module": "@jupyter-widgets/controls",
      "_model_module_version": "1.5.0",
      "_model_name": "HTMLModel",
      "_view_count": null,
      "_view_module": "@jupyter-widgets/controls",
      "_view_module_version": "1.5.0",
      "_view_name": "HTMLView",
      "description": "",
      "description_tooltip": null,
      "layout": "IPY_MODEL_166c662e9d8c459681896b6ae2a1559f",
      "placeholder": "​",
      "style": "IPY_MODEL_f37726899e0943e69650331a47c60294",
      "value": ""
     }
    },
    "b53fbc548730444781609c24cbff5fdb": {
     "model_module": "@jupyter-widgets/controls",
     "model_name": "FloatProgressModel",
     "model_module_version": "1.5.0",
     "state": {
      "_dom_classes": [],
      "_model_module": "@jupyter-widgets/controls",
      "_model_module_version": "1.5.0",
      "_model_name": "FloatProgressModel",
      "_view_count": null,
      "_view_module": "@jupyter-widgets/controls",
      "_view_module_version": "1.5.0",
      "_view_name": "ProgressView",
      "bar_style": "success",
      "description": "",
      "description_tooltip": null,
      "layout": "IPY_MODEL_2b8d51a0fcf84cb890c13fce1fe869d6",
      "max": 170498071,
      "min": 0,
      "orientation": "horizontal",
      "style": "IPY_MODEL_5f2eb830b4be4cd0b4dd873401554924",
      "value": 170498071
     }
    },
    "29796d19cd1e4d0ba7410ccbe22f5942": {
     "model_module": "@jupyter-widgets/controls",
     "model_name": "HTMLModel",
     "model_module_version": "1.5.0",
     "state": {
      "_dom_classes": [],
      "_model_module": "@jupyter-widgets/controls",
      "_model_module_version": "1.5.0",
      "_model_name": "HTMLModel",
      "_view_count": null,
      "_view_module": "@jupyter-widgets/controls",
      "_view_module_version": "1.5.0",
      "_view_name": "HTMLView",
      "description": "",
      "description_tooltip": null,
      "layout": "IPY_MODEL_09c142325b59408b82db86430934be3e",
      "placeholder": "​",
      "style": "IPY_MODEL_afe96e9e28a64fe7962aea0dc28e3229",
      "value": " 170499072/? [00:02&lt;00:00, 61117422.63it/s]"
     }
    },
    "49c6404fb77f4c79991425732cea4fc9": {
     "model_module": "@jupyter-widgets/base",
     "model_name": "LayoutModel",
     "model_module_version": "1.2.0",
     "state": {
      "_model_module": "@jupyter-widgets/base",
      "_model_module_version": "1.2.0",
      "_model_name": "LayoutModel",
      "_view_count": null,
      "_view_module": "@jupyter-widgets/base",
      "_view_module_version": "1.2.0",
      "_view_name": "LayoutView",
      "align_content": null,
      "align_items": null,
      "align_self": null,
      "border": null,
      "bottom": null,
      "display": null,
      "flex": null,
      "flex_flow": null,
      "grid_area": null,
      "grid_auto_columns": null,
      "grid_auto_flow": null,
      "grid_auto_rows": null,
      "grid_column": null,
      "grid_gap": null,
      "grid_row": null,
      "grid_template_areas": null,
      "grid_template_columns": null,
      "grid_template_rows": null,
      "height": null,
      "justify_content": null,
      "justify_items": null,
      "left": null,
      "margin": null,
      "max_height": null,
      "max_width": null,
      "min_height": null,
      "min_width": null,
      "object_fit": null,
      "object_position": null,
      "order": null,
      "overflow": null,
      "overflow_x": null,
      "overflow_y": null,
      "padding": null,
      "right": null,
      "top": null,
      "visibility": null,
      "width": null
     }
    },
    "166c662e9d8c459681896b6ae2a1559f": {
     "model_module": "@jupyter-widgets/base",
     "model_name": "LayoutModel",
     "model_module_version": "1.2.0",
     "state": {
      "_model_module": "@jupyter-widgets/base",
      "_model_module_version": "1.2.0",
      "_model_name": "LayoutModel",
      "_view_count": null,
      "_view_module": "@jupyter-widgets/base",
      "_view_module_version": "1.2.0",
      "_view_name": "LayoutView",
      "align_content": null,
      "align_items": null,
      "align_self": null,
      "border": null,
      "bottom": null,
      "display": null,
      "flex": null,
      "flex_flow": null,
      "grid_area": null,
      "grid_auto_columns": null,
      "grid_auto_flow": null,
      "grid_auto_rows": null,
      "grid_column": null,
      "grid_gap": null,
      "grid_row": null,
      "grid_template_areas": null,
      "grid_template_columns": null,
      "grid_template_rows": null,
      "height": null,
      "justify_content": null,
      "justify_items": null,
      "left": null,
      "margin": null,
      "max_height": null,
      "max_width": null,
      "min_height": null,
      "min_width": null,
      "object_fit": null,
      "object_position": null,
      "order": null,
      "overflow": null,
      "overflow_x": null,
      "overflow_y": null,
      "padding": null,
      "right": null,
      "top": null,
      "visibility": null,
      "width": null
     }
    },
    "f37726899e0943e69650331a47c60294": {
     "model_module": "@jupyter-widgets/controls",
     "model_name": "DescriptionStyleModel",
     "model_module_version": "1.5.0",
     "state": {
      "_model_module": "@jupyter-widgets/controls",
      "_model_module_version": "1.5.0",
      "_model_name": "DescriptionStyleModel",
      "_view_count": null,
      "_view_module": "@jupyter-widgets/base",
      "_view_module_version": "1.2.0",
      "_view_name": "StyleView",
      "description_width": ""
     }
    },
    "2b8d51a0fcf84cb890c13fce1fe869d6": {
     "model_module": "@jupyter-widgets/base",
     "model_name": "LayoutModel",
     "model_module_version": "1.2.0",
     "state": {
      "_model_module": "@jupyter-widgets/base",
      "_model_module_version": "1.2.0",
      "_model_name": "LayoutModel",
      "_view_count": null,
      "_view_module": "@jupyter-widgets/base",
      "_view_module_version": "1.2.0",
      "_view_name": "LayoutView",
      "align_content": null,
      "align_items": null,
      "align_self": null,
      "border": null,
      "bottom": null,
      "display": null,
      "flex": null,
      "flex_flow": null,
      "grid_area": null,
      "grid_auto_columns": null,
      "grid_auto_flow": null,
      "grid_auto_rows": null,
      "grid_column": null,
      "grid_gap": null,
      "grid_row": null,
      "grid_template_areas": null,
      "grid_template_columns": null,
      "grid_template_rows": null,
      "height": null,
      "justify_content": null,
      "justify_items": null,
      "left": null,
      "margin": null,
      "max_height": null,
      "max_width": null,
      "min_height": null,
      "min_width": null,
      "object_fit": null,
      "object_position": null,
      "order": null,
      "overflow": null,
      "overflow_x": null,
      "overflow_y": null,
      "padding": null,
      "right": null,
      "top": null,
      "visibility": null,
      "width": null
     }
    },
    "5f2eb830b4be4cd0b4dd873401554924": {
     "model_module": "@jupyter-widgets/controls",
     "model_name": "ProgressStyleModel",
     "model_module_version": "1.5.0",
     "state": {
      "_model_module": "@jupyter-widgets/controls",
      "_model_module_version": "1.5.0",
      "_model_name": "ProgressStyleModel",
      "_view_count": null,
      "_view_module": "@jupyter-widgets/base",
      "_view_module_version": "1.2.0",
      "_view_name": "StyleView",
      "bar_color": null,
      "description_width": ""
     }
    },
    "09c142325b59408b82db86430934be3e": {
     "model_module": "@jupyter-widgets/base",
     "model_name": "LayoutModel",
     "model_module_version": "1.2.0",
     "state": {
      "_model_module": "@jupyter-widgets/base",
      "_model_module_version": "1.2.0",
      "_model_name": "LayoutModel",
      "_view_count": null,
      "_view_module": "@jupyter-widgets/base",
      "_view_module_version": "1.2.0",
      "_view_name": "LayoutView",
      "align_content": null,
      "align_items": null,
      "align_self": null,
      "border": null,
      "bottom": null,
      "display": null,
      "flex": null,
      "flex_flow": null,
      "grid_area": null,
      "grid_auto_columns": null,
      "grid_auto_flow": null,
      "grid_auto_rows": null,
      "grid_column": null,
      "grid_gap": null,
      "grid_row": null,
      "grid_template_areas": null,
      "grid_template_columns": null,
      "grid_template_rows": null,
      "height": null,
      "justify_content": null,
      "justify_items": null,
      "left": null,
      "margin": null,
      "max_height": null,
      "max_width": null,
      "min_height": null,
      "min_width": null,
      "object_fit": null,
      "object_position": null,
      "order": null,
      "overflow": null,
      "overflow_x": null,
      "overflow_y": null,
      "padding": null,
      "right": null,
      "top": null,
      "visibility": null,
      "width": null
     }
    },
    "afe96e9e28a64fe7962aea0dc28e3229": {
     "model_module": "@jupyter-widgets/controls",
     "model_name": "DescriptionStyleModel",
     "model_module_version": "1.5.0",
     "state": {
      "_model_module": "@jupyter-widgets/controls",
      "_model_module_version": "1.5.0",
      "_model_name": "DescriptionStyleModel",
      "_view_count": null,
      "_view_module": "@jupyter-widgets/base",
      "_view_module_version": "1.2.0",
      "_view_name": "StyleView",
      "description_width": ""
     }
    }
   }
  }
 },
 "cells": [
  {
   "cell_type": "code",
   "execution_count": 2,
   "metadata": {
    "id": "0ZZCIVp6jBH9"
   },
   "outputs": [],
   "source": [
    "# imports\n",
    "import torch\n",
    "import torch.nn as nn\n",
    "import torch.nn.functional as F\n",
    "import torch.optim as optim\n",
    "import torchvision\n",
    "from torch.utils.data.dataloader import DataLoader\n",
    "from torch.utils.data import random_split\n",
    "import numpy as np\n",
    "import matplotlib.pyplot as plt\n",
    "\n",
    "# datasets\n",
    "from torchvision.datasets import CIFAR10\n",
    "from torchvision.datasets import CIFAR100\n"
   ]
  },
  {
   "cell_type": "code",
   "source": [
    "# to check if gpu available\n",
    "import tensorflow as tf"
   ],
   "metadata": {
    "id": "XPaxNmwORiLR"
   },
   "execution_count": 2,
   "outputs": []
  },
  {
   "cell_type": "code",
   "source": [
    "class AlexNet(nn.Module):\n",
    "    # architecture\n",
    "    def __init__(self):\n",
    "        super(AlexNet, self).__init__()\n",
    "        self.conv1 = nn.Conv2d(in_channels=3, out_channels= 96, kernel_size= 11, stride=4, padding=0 )\n",
    "        self.maxpool = nn.MaxPool2d(kernel_size=3, stride=2)\n",
    "        self.conv2 = nn.Conv2d(in_channels=96, out_channels=256, kernel_size=5, stride= 1, padding= 2)\n",
    "        self.conv3 = nn.Conv2d(in_channels=256, out_channels=384, kernel_size=3, stride= 1, padding= 1)\n",
    "        self.conv4 = nn.Conv2d(in_channels=384, out_channels=384, kernel_size=3, stride=1, padding=1)\n",
    "        self.conv5 = nn.Conv2d(in_channels=384, out_channels=256, kernel_size=3, stride=1, padding=1)\n",
    "        self.fc1  = nn.Linear(in_features= 9216, out_features= 4096)\n",
    "        self.fc2  = nn.Linear(in_features= 4096, out_features= 4096)\n",
    "        self.fc3 = nn.Linear(in_features=4096 , out_features=10)\n",
    "\n",
    "    # set up network\n",
    "    # add dropout here\n",
    "    def forward(self, x):\n",
    "        x = F.relu(self.conv1(x))\n",
    "        x = self.maxpool(x)\n",
    "        x = F.relu(self.conv2(x))\n",
    "        x = self.maxpool(x)\n",
    "        x = F.relu(self.conv3(x))\n",
    "        x = F.relu(self.conv4(x))\n",
    "        x = F.relu(self.conv5(x))\n",
    "        x = self.maxpool(x)\n",
    "        x = x.reshape(x.shape[0], -1)\n",
    "        x = F.relu(self.fc1(x))\n",
    "        x = F.relu(self.fc2(x))\n",
    "        x = self.fc3(x)\n",
    "        return x\n"
   ],
   "metadata": {
    "id": "ap5ZTrqzjKDo"
   },
   "execution_count": 8,
   "outputs": []
  },
  {
   "cell_type": "code",
   "source": [
    "# calculate accuracy\n",
    "def eval(dl, device, model):\n",
    "    total = 0\n",
    "    correct = 0\n",
    "    with torch.no_grad():\n",
    "        for idx, (data, target) in enumerate(dl):\n",
    "            data = data.to(device)\n",
    "            target = target.to(device)\n",
    "            output = model(data)\n",
    "            _, prediction = output.max(1)\n",
    "            correct += (prediction == target).sum()\n",
    "            total += prediction.size(0)\n",
    "    return correct/total\n"
   ],
   "metadata": {
    "id": "LrNj4dKHjpqQ"
   },
   "execution_count": 4,
   "outputs": []
  },
  {
   "cell_type": "code",
   "source": [
    "def run_eval(model_path):\n",
    "    # transforms\n",
    "    test_transform = torchvision.transforms.Compose([torchvision.transforms.Resize((227,227)),\n",
    "                                                    torchvision.transforms.ToTensor(),\n",
    "                                                    torchvision.transforms.Normalize(mean=[0.485, 0.456, 0.406], std=[0.229, 0.224, 0.225])])\n",
    "    \n",
    "    # get datasets\n",
    "    test_ds = CIFAR10(\"data/\", train=False, download=True, transform=test_transform)\n",
    "\n",
    "    #passing the train, val and test datasets to the dataloader\n",
    "    test_dl = DataLoader(test_ds, batch_size=64, shuffle=False)\n",
    "\n",
    "    device = torch.device('cuda' if torch.cuda.is_available() else 'cpu')\n",
    "    model = AlexNet()\n",
    "\n",
    "    # load model depending on if gpu available\n",
    "    if tf.test.gpu_device_name() == '/device:GPU:0':\n",
    "      model.load_state_dict(torch.load(model_path, map_location=\"cuda:0\"))  # Choose whatever GPU device number you want\n",
    "    else:\n",
    "      model.load_state_dict(torch.load(model_save_path,map_location=torch.device('cpu')))\n",
    "    model.to(device)\n",
    "        \n",
    "    test_result = eval(test_dl, device, model)\n",
    "    print(test_result)\n"
   ],
   "metadata": {
    "id": "igxLoCxZQyGH"
   },
   "execution_count": 7,
   "outputs": []
  },
  {
   "cell_type": "markdown",
   "source": [
    "# Experimenting With Different Optimizers"
   ],
   "metadata": {
    "id": "aVcHBCMWQVH_"
   }
  },
  {
   "cell_type": "code",
   "source": [
    "def train_optim(device, train_dl, val_dl, epochs, model, model_save_path, result_save_path, optimizer):\n",
    "    # loss and optimizer\n",
    "    criterion = nn.CrossEntropyLoss()\n",
    "\n",
    "    train_loss = np.zeros(epochs)\n",
    "    train_accs = np.zeros(epochs)\n",
    "    val_accs = np.zeros(epochs)\n",
    "    # training loop\n",
    "    for e in range(epochs):\n",
    "        total_loss = 0\n",
    "\n",
    "        # compute then backprop\n",
    "        for idx, (data, target) in enumerate(train_dl):\n",
    "            data = data.to(device)\n",
    "            target = target.to(device)\n",
    "            optimizer.zero_grad()\n",
    "            output = model(data)\n",
    "            loss = criterion(output, target)\n",
    "            loss.backward()\n",
    "            optimizer.step()\n",
    "            total_loss += loss.item()\n",
    "        \n",
    "        # calculate accuracy\n",
    "        train_acc = eval(train_dl, device, model)\n",
    "        val_acc = eval(val_dl, device, model)\n",
    "        \n",
    "        if e % 10 == 0:\n",
    "            print('Epoch: {}  Loss: {}  Training Accuracy: {}  Validation Accuracy: {}'.format(e, total_loss, train_acc, val_acc))\n",
    "          \n",
    "        train_loss[e] = total_loss\n",
    "        train_accs[e] = train_acc\n",
    "        val_accs[e] = val_acc\n",
    "\n",
    "    # save model\n",
    "    torch.save(model.state_dict(), model_save_path)\n",
    "\n",
    "    # save results\n",
    "    np.savetxt(f\"{result_save_path}train_loss.txt\", train_loss)\n",
    "    np.savetxt(f\"{result_save_path}train_acc.txt\", train_accs)\n",
    "    np.savetxt(f\"{result_save_path}val_acc.txt\", val_accs)\n"
   ],
   "metadata": {
    "id": "v3SvMFwOQeDD"
   },
   "execution_count": 5,
   "outputs": []
  },
  {
   "cell_type": "code",
   "source": [
    "def main_optim(device, model, model_save_path, result_save_path, optimizer):\n",
    "    # transforms\n",
    "    train_transform = torchvision.transforms.Compose([torchvision.transforms.Resize((227, 227)),\n",
    "                                                      torchvision.transforms.RandomHorizontalFlip(p=0.7),\n",
    "                                                      torchvision.transforms.ToTensor(),\n",
    "                                                      torchvision.transforms.Normalize(mean=[0.485, 0.456, 0.406], std=[0.229, 0.224, 0.225])])\n",
    "    test_transform = torchvision.transforms.Compose([torchvision.transforms.Resize((227,227)),\n",
    "                                                    torchvision.transforms.ToTensor(),\n",
    "                                                    torchvision.transforms.Normalize(mean=[0.485, 0.456, 0.406], std=[0.229, 0.224, 0.225])])\n",
    "    '''    \n",
    "    # get datasets\n",
    "    train_ds = CIFAR10(\"data/\", train=True, download=True, transform=train_transform)\n",
    "    val_size = 5000\n",
    "    train_size = len(train_ds) - val_size\n",
    "    train_ds, val_ds = random_split(train_ds, [train_size, val_size])\n",
    "    test_ds = CIFAR10(\"data/\", train=False, download=True, transform=test_transform)\n",
    "    '''\n",
    "    # get subset of dataset for training\n",
    "    full_train_ds = CIFAR10(\"data/\", train=True, download=True, transform=train_transform)\n",
    "    subset_train_size = len(full_train_ds)//5\n",
    "    subset_train_ds, train_ds_pt2 = random_split(full_train_ds, [subset_train_size,len(full_train_ds ) - subset_train_size], generator=torch.Generator().manual_seed(42))\n",
    "\n",
    "    val_size = 1000\n",
    "    train_size = subset_train_size - val_size\n",
    "\n",
    "    train_ds, val_ds = random_split(subset_train_ds, [train_size, val_size])\n",
    "\n",
    "    test_ds = CIFAR10(\"data/\", train=False, download=True, transform=test_transform)\n",
    "\n",
    "    #passing the train, val and test datasets to the dataloader\n",
    "    train_dl = DataLoader(train_ds, batch_size=64, shuffle=True)\n",
    "    val_dl = DataLoader(val_ds, batch_size=64, shuffle=False)\n",
    "    test_dl = DataLoader(test_ds, batch_size=64, shuffle=False)\n",
    "\n",
    "    # hyperparameters\n",
    "    epochs = 50 # NB: epochs reduced from 50 to 25\n",
    "\n",
    "    # train\n",
    "    train_optim(device, train_dl, val_dl, epochs, model, model_save_path, result_save_path, optimizer=optimizer)\n"
   ],
   "metadata": {
    "id": "AXjN5l65UVVH"
   },
   "execution_count": 6,
   "outputs": []
  },
  {
   "cell_type": "code",
   "source": [
    "\n",
    "# check if cuda available\n",
    "device = torch.device('cuda' if torch.cuda.is_available() else 'cpu')\n",
    "print('Device: {}'.format(device))\n",
    "\n",
    "# init model\n",
    "model = AlexNet()\n",
    "model = model.to(device)\n",
    "\n",
    "optimizer = optim.SGD(model.parameters(), lr=0.1)\n",
    "\n",
    "print(f\"Using {optimizer.__class__.__name__} optimizer\")\n",
    "model_save_path = f'/content/drive/My Drive/MIE424Project/models/{optimizer.__class__.__name__}_optimizer_model.pt'\n",
    "result_save_path = f'/content/drive/My Drive/MIE424Project/Results/{optimizer.__class__.__name__}_lr0.1'\n",
    "main_optim(device, model, model_save_path, result_save_path, optimizer)"
   ],
   "metadata": {
    "colab": {
     "base_uri": "https://localhost:8080/",
     "height": 482,
     "referenced_widgets": [
      "877b6849db904c7882991340bcf5753a",
      "2accb164e4c549e2acf61a4c69019ecd",
      "b53fbc548730444781609c24cbff5fdb",
      "29796d19cd1e4d0ba7410ccbe22f5942",
      "49c6404fb77f4c79991425732cea4fc9",
      "166c662e9d8c459681896b6ae2a1559f",
      "f37726899e0943e69650331a47c60294",
      "2b8d51a0fcf84cb890c13fce1fe869d6",
      "5f2eb830b4be4cd0b4dd873401554924",
      "09c142325b59408b82db86430934be3e",
      "afe96e9e28a64fe7962aea0dc28e3229"
     ]
    },
    "id": "4phq-rSYU8uq",
    "outputId": "77902cdb-4d33-4235-f80b-b7299efe7dc6"
   },
   "execution_count": 1,
   "outputs": []
  },
  {
   "cell_type": "code",
   "source": [
    "# check if cuda available\n",
    "device = torch.device('cuda' if torch.cuda.is_available() else 'cpu')\n",
    "print('Device: {}'.format(device))\n",
    "\n",
    "# init model\n",
    "model = AlexNet()\n",
    "model = model.to(device)\n",
    "\n",
    "optimizer = optim.Adagrad(model.parameters(), lr=0.01)\n",
    "\n",
    "print(f\"Using {optimizer.__class__.__name__} optimizer\")\n",
    "model_save_path = f'/content/drive/My Drive/MIE424Project/models/{optimizer.__class__.__name__}_optimizer_model.pt'\n",
    "result_save_path = f'/content/drive/My Drive/MIE424Project/Results/{optimizer.__class__.__name__}_lr0.01'\n",
    "main_optim(device, model, model_save_path, result_save_path, optimizer)"
   ],
   "metadata": {
    "colab": {
     "base_uri": "https://localhost:8080/"
    },
    "id": "pwODZKnsWMFn",
    "outputId": "b38af3fb-e112-49b4-ed2d-5749635dee70"
   },
   "execution_count": null,
   "outputs": [
    {
     "output_type": "stream",
     "name": "stdout",
     "text": [
      "Device: cuda\n",
      "Using Adagrad optimizer\n",
      "Files already downloaded and verified\n",
      "Files already downloaded and verified\n",
      "Epoch: 0  Loss: 7866493.5628294945  Training Accuracy: 0.22188888490200043  Validation Accuracy: 0.23100000619888306\n",
      "Epoch: 10  Loss: 172.5404695868492  Training Accuracy: 0.5893333554267883  Validation Accuracy: 0.4620000123977661\n",
      "Epoch: 20  Loss: 106.16610062122345  Training Accuracy: 0.7513333559036255  Validation Accuracy: 0.4710000157356262\n",
      "Epoch: 30  Loss: 43.70431903004646  Training Accuracy: 0.8904444575309753  Validation Accuracy: 0.46000000834465027\n",
      "Epoch: 40  Loss: 13.438831072300673  Training Accuracy: 0.9762222170829773  Validation Accuracy: 0.49400001764297485\n"
     ]
    }
   ]
  },
  {
   "cell_type": "code",
   "source": [
    "# check if cuda available\n",
    "device = torch.device('cuda' if torch.cuda.is_available() else 'cpu')\n",
    "print('Device: {}'.format(device))\n",
    "\n",
    "# init model\n",
    "model = AlexNet()\n",
    "model = model.to(device)\n",
    "\n",
    "optimizer = optim.Adam(model.parameters(), lr=1e-4)\n",
    "\n",
    "print(f\"Using {optimizer.__class__.__name__} optimizer\")\n",
    "model_save_path = f'/content/drive/My Drive/MIE424Project/models/{optimizer.__class__.__name__}_optimizer_model.pt'\n",
    "result_save_path = f'/content/drive/My Drive/MIE424Project/Results/{optimizer.__class__.__name__}_lr1e-4'\n",
    "main_optim(device, model, model_save_path, result_save_path, optimizer)"
   ],
   "metadata": {
    "colab": {
     "base_uri": "https://localhost:8080/"
    },
    "id": "dftDNsb-WijR",
    "outputId": "af764844-9c9d-4d39-ff93-33e916ed2708"
   },
   "execution_count": null,
   "outputs": [
    {
     "output_type": "stream",
     "name": "stdout",
     "text": [
      "Device: cuda\n",
      "Using Adam optimizer\n",
      "Files already downloaded and verified\n",
      "Files already downloaded and verified\n",
      "Epoch: 0  Loss: 274.23695945739746  Training Accuracy: 0.370888888835907  Validation Accuracy: 0.3530000150203705\n",
      "Epoch: 10  Loss: 75.78775188326836  Training Accuracy: 0.8574444651603699  Validation Accuracy: 0.6690000295639038\n",
      "Epoch: 20  Loss: 15.081492421217263  Training Accuracy: 0.9763333201408386  Validation Accuracy: 0.7020000219345093\n",
      "Epoch: 30  Loss: 8.43455523904413  Training Accuracy: 0.9886666536331177  Validation Accuracy: 0.6840000152587891\n",
      "Epoch: 40  Loss: 3.9867035835050046  Training Accuracy: 0.9854444265365601  Validation Accuracy: 0.703000009059906\n"
     ]
    }
   ]
  },
  {
   "cell_type": "code",
   "source": [
    "result_save_path = f'/content/drive/My Drive/MIE424Project/Results'\n",
    "sgd = np.loadtxt(f\"{result_save_path}/SGD_lr0.1train_loss.txt\")\n",
    "adagrad = np.loadtxt(f\"{result_save_path}/Adagrad_lr0.01train_loss.txt\")\n",
    "adam = np.loadtxt(f\"{result_save_path}/Adam_lr1e-4train_loss.txt\")\n",
    "\n",
    "x = np.arange(50)\n",
    "plt.plot(x, sgd, \"-b\", label=\"SGD\")\n",
    "plt.plot(x, adagrad, \"-r\", label=\"Adagrad\")\n",
    "plt.plot(x, adam, \"-k\", label=\"Adam\")\n",
    "plt.xlabel(\"Epoch\")\n",
    "plt.ylabel(\"Train Loss\")\n",
    "ax = plt.gca()\n",
    "ax.set_ylim([0, 330])\n",
    "plt.legend()\n",
    "plt.show()"
   ],
   "metadata": {
    "colab": {
     "base_uri": "https://localhost:8080/",
     "height": 279
    },
    "id": "EtyGsPC7gh08",
    "outputId": "f2927ecd-4c13-4e9f-f700-c7fe6aa33e79"
   },
   "execution_count": null,
   "outputs": [
    {
     "output_type": "display_data",
     "data": {
      "text/plain": [
       "<Figure size 432x288 with 1 Axes>"
      ],
      "image/png": "[encoded data removed]"
     },
     "metadata": {
      "needs_background": "light"
     }
    }
   ]
  },
  {
   "cell_type": "code",
   "source": [
    "result_save_path = f'/content/drive/My Drive/MIE424Project/Results'\n",
    "sgd = np.loadtxt(f\"{result_save_path}/SGD_lr0.1train_acc.txt\")\n",
    "adagrad = np.loadtxt(f\"{result_save_path}/Adagrad_lr0.01train_acc.txt\")\n",
    "adam = np.loadtxt(f\"{result_save_path}/Adam_lr1e-4train_acc.txt\")\n",
    "\n",
    "x = np.arange(50)\n",
    "plt.plot(x, sgd, \"-b\", label=\"SGD\")\n",
    "plt.plot(x, adagrad, \"-r\", label=\"Adagrad\")\n",
    "plt.plot(x, adam, \"-k\", label=\"Adam\")\n",
    "plt.xlabel(\"Epoch\")\n",
    "plt.ylabel(\"Train Accuracy\")\n",
    "plt.legend()\n",
    "plt.show()"
   ],
   "metadata": {
    "colab": {
     "base_uri": "https://localhost:8080/",
     "height": 279
    },
    "id": "fz0dzEepekiR",
    "outputId": "4735e458-4591-4f87-8828-1879ca236c92"
   },
   "execution_count": null,
   "outputs": [
    {
     "output_type": "display_data",
     "data": {
      "text/plain": [
       "<Figure size 432x288 with 1 Axes>"
      ],
      "image/png": "[encoded data removed]"
     },
     "metadata": {
      "needs_background": "light"
     }
    }
   ]
  },
  {
   "cell_type": "code",
   "source": [
    "result_save_path = f'/content/drive/My Drive/MIE424Project/Results'\n",
    "sgd = np.loadtxt(f\"{result_save_path}/SGD_lr0.1val_acc.txt\")\n",
    "adagrad = np.loadtxt(f\"{result_save_path}/Adagrad_lr0.01val_acc.txt\")\n",
    "adam = np.loadtxt(f\"{result_save_path}/Adam_lr1e-4val_acc.txt\")\n",
    "\n",
    "x = np.arange(50)\n",
    "plt.plot(x, sgd, \"-b\", label=\"SGD\")\n",
    "plt.plot(x, adagrad, \"-r\", label=\"Adagrad\")\n",
    "plt.plot(x, adam, \"-k\", label=\"Adam\")\n",
    "plt.xlabel(\"Epoch\")\n",
    "plt.ylabel(\"Validation Accuracy\")\n",
    "plt.legend()\n",
    "plt.show()\n"
   ],
   "metadata": {
    "colab": {
     "base_uri": "https://localhost:8080/",
     "height": 279
    },
    "id": "ou2aG-2vhA-G",
    "outputId": "c1dca3ca-3a22-4072-8790-9c05c4647f3b",
    "pycharm": {
     "name": "#%%\n"
    }
   },
   "execution_count": null,
   "outputs": [
    {
     "output_type": "display_data",
     "data": {
      "text/plain": [
       "<Figure size 432x288 with 1 Axes>"
      ],
      "image/png": "[encoded data removed]"
     },
     "metadata": {
      "needs_background": "light"
     }
    }
   ]
  }
 ]
}